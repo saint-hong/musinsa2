{
 "cells": [
  {
   "cell_type": "code",
   "execution_count": 1,
   "metadata": {},
   "outputs": [],
   "source": [
    "import requests\n",
    "import re\n",
    "import scrapy\n",
    "import requests\n",
    "\n",
    "from scrapy.http import TextResponse"
   ]
  },
  {
   "cell_type": "code",
   "execution_count": 2,
   "metadata": {},
   "outputs": [],
   "source": [
    "!rm -rf musinsa"
   ]
  },
  {
   "cell_type": "code",
   "execution_count": 3,
   "metadata": {},
   "outputs": [
    {
     "name": "stdout",
     "output_type": "stream",
     "text": [
      "New Scrapy project 'musinsa', using template directory 'c:\\ds\\anaconda3\\lib\\site-packages\\scrapy\\templates\\project', created in:\n",
      "    C:\\DSS12\\musinsa2\\musinsa\n",
      "\n",
      "You can start your first spider with:\n",
      "    cd musinsa\n",
      "    scrapy genspider example example.com\n"
     ]
    }
   ],
   "source": [
    "!scrapy startproject musinsa"
   ]
  },
  {
   "cell_type": "markdown",
   "metadata": {},
   "source": [
    "# 무신사 URL 확인"
   ]
  },
  {
   "cell_type": "code",
   "execution_count": 4,
   "metadata": {},
   "outputs": [
    {
     "name": "stdout",
     "output_type": "stream",
     "text": [
      "https://store.musinsa.com/app/brand/goods_list/musinsastandard?gclid=CjwKCAjw1v_0BRAkEiwALFkj5pkdoqVQmkznBLJ6ONQcJEV-UoAty7MYo5HuKCP2Xh0s3IPJAs_IORoCmygQAvD_BwE\n"
     ]
    }
   ],
   "source": [
    "musinsa_url = \"https://store.musinsa.com/app/brand/goods_list/musinsastandard?gclid=CjwKCAjw1v_0BRAkEiwALFkj5pkdoqVQmkznBLJ6ONQcJEV-UoAty7MYo5HuKCP2Xh0s3IPJAs_IORoCmygQAvD_BwE\"\n",
    "print(musinsa_url)"
   ]
  },
  {
   "cell_type": "markdown",
   "metadata": {},
   "source": [
    "### 페이지 파싱"
   ]
  },
  {
   "cell_type": "code",
   "execution_count": 5,
   "metadata": {},
   "outputs": [],
   "source": [
    "range, page, = \"1d\", 1 \n",
    "\n",
    "url = \"https://store.musinsa.com/app/contents/bestranking/\\\n",
    "?d_cat_cd=&u_cat_cd=&range={}&price=&ex_soldout=&sale_goods=&new_product_yn=&list_kind=&page={}\\\n",
    "&display_cnt=90&sex=&popup=&sale_rate=&price1=&price2=&chk_new_product_yn=&chk_sale=&chk_soldout=\".format(range, page)\n",
    "\n",
    "req = requests.get(url)\n",
    "response = TextResponse(req.url, body=req.text, encoding=\"utf-8\")"
   ]
  },
  {
   "cell_type": "markdown",
   "metadata": {},
   "source": [
    "### 배너 있는 상품 링크"
   ]
  },
  {
   "cell_type": "code",
   "execution_count": 6,
   "metadata": {},
   "outputs": [],
   "source": [
    "links_1 = response.xpath('//*[@id=\"searchList\"]/li/div[3]/div[2]/p[2]/a/@href').extract()\n",
    "links_1 = list(map(lambda data:response.urljoin(data), links_1))"
   ]
  },
  {
   "cell_type": "markdown",
   "metadata": {},
   "source": [
    "### 배너 없는 상품 링크"
   ]
  },
  {
   "cell_type": "code",
   "execution_count": 7,
   "metadata": {},
   "outputs": [],
   "source": [
    "links_2 = response.xpath('//*[@id=\"searchList\"]/li/div[2]/div[2]/p[2]/a/@href').extract()\n",
    "links_2 = list(map(lambda data:response.urljoin(data), links_2))"
   ]
  },
  {
   "cell_type": "code",
   "execution_count": 8,
   "metadata": {},
   "outputs": [],
   "source": [
    "links = links_1 + links_2"
   ]
  },
  {
   "cell_type": "code",
   "execution_count": 9,
   "metadata": {},
   "outputs": [
    {
     "data": {
      "text/plain": [
       "(90, 'https://store.musinsa.com/app/product/detail/1015777/0')"
      ]
     },
     "execution_count": 9,
     "metadata": {},
     "output_type": "execute_result"
    }
   ],
   "source": [
    "len(links), links[0]"
   ]
  },
  {
   "cell_type": "markdown",
   "metadata": {},
   "source": [
    "### 세부페이지 content 파싱"
   ]
  },
  {
   "cell_type": "code",
   "execution_count": 10,
   "metadata": {},
   "outputs": [],
   "source": [
    "req2 = requests.get(links[0])\n",
    "response = TextResponse(req2.url, body=req2.text, encoding=\"utf-8\")"
   ]
  },
  {
   "cell_type": "code",
   "execution_count": 11,
   "metadata": {},
   "outputs": [
    {
     "data": {
      "text/plain": [
       "'[20SS] Cargo Jogger Slacks Pants - Black'"
      ]
     },
     "execution_count": 11,
     "metadata": {},
     "output_type": "execute_result"
    }
   ],
   "source": [
    "# 상품명\n",
    "product_name = response.xpath('//*[@id=\"page_product_detail\"]/div[4]/div[3]/span/span[1]/text()').extract()[0]\n",
    "\n",
    "product_name"
   ]
  },
  {
   "cell_type": "code",
   "execution_count": 12,
   "metadata": {},
   "outputs": [
    {
     "data": {
      "text/plain": [
       "'NOT4NERD'"
      ]
     },
     "execution_count": 12,
     "metadata": {},
     "output_type": "execute_result"
    }
   ],
   "source": [
    "# 브랜드명\n",
    "brand_name = response.xpath('//*[@id=\"product_order_info\"]/div[1]/ul/li[1]/p[2]/strong/a/text()').extract()[0]\n",
    "\n",
    "brand_name"
   ]
  },
  {
   "cell_type": "code",
   "execution_count": 13,
   "metadata": {},
   "outputs": [
    {
     "data": {
      "text/plain": [
       "' PT021BK'"
      ]
     },
     "execution_count": 13,
     "metadata": {},
     "output_type": "execute_result"
    }
   ],
   "source": [
    "# 상품 품번\n",
    "product_num = response.xpath('//*[@id=\"product_order_info\"]/div[1]/ul/li[1]/p[2]/strong/text()').extract()[1]\n",
    "\n",
    "product_num"
   ]
  },
  {
   "cell_type": "code",
   "execution_count": 14,
   "metadata": {},
   "outputs": [
    {
     "data": {
      "text/plain": [
       "'남'"
      ]
     },
     "execution_count": 14,
     "metadata": {},
     "output_type": "execute_result"
    }
   ],
   "source": [
    "# 성별\n",
    "gender = response.xpath('//*[@id=\"product_order_info\"]/div[1]/ul/li[2]/p[2]/span/span/text()').extract()[0]\n",
    "\n",
    "gender"
   ]
  },
  {
   "cell_type": "code",
   "execution_count": 15,
   "metadata": {},
   "outputs": [
    {
     "data": {
      "text/plain": [
       "'4,894'"
      ]
     },
     "execution_count": 15,
     "metadata": {},
     "output_type": "execute_result"
    }
   ],
   "source": [
    "# 좋아요 갯수\n",
    "good_num = response.xpath('//*[@id=\"product_order_info\"]/div[1]/ul/li[5]/p[2]/span/text()').extract()[0]\n",
    "\n",
    "good_num"
   ]
  },
  {
   "cell_type": "code",
   "execution_count": 16,
   "metadata": {},
   "outputs": [
    {
     "data": {
      "text/plain": [
       "'1,339건'"
      ]
     },
     "execution_count": 16,
     "metadata": {},
     "output_type": "execute_result"
    }
   ],
   "source": [
    "# 구매후기 갯수\n",
    "reviw_count = response.xpath('//*[@id=\"product_order_info\"]/div[1]/ul/li[6]/p[2]/a/text()').extract()[0]\n",
    "\n",
    "reviw_count"
   ]
  },
  {
   "cell_type": "code",
   "execution_count": 17,
   "metadata": {},
   "outputs": [
    {
     "data": {
      "text/plain": [
       "'89,000'"
      ]
     },
     "execution_count": 17,
     "metadata": {},
     "output_type": "execute_result"
    }
   ],
   "source": [
    "# 판매가격\n",
    "orgin_price = response.xpath('//*[@id=\"goods_price\"]/del/text()').extract()[0]\n",
    "\n",
    "orgin_price"
   ]
  },
  {
   "cell_type": "code",
   "execution_count": 18,
   "metadata": {},
   "outputs": [
    {
     "data": {
      "text/plain": [
       "' 49,000'"
      ]
     },
     "execution_count": 18,
     "metadata": {},
     "output_type": "execute_result"
    }
   ],
   "source": [
    "# 할인가격\n",
    "sale_price = response.xpath('//*[@id=\"sale_price\"]/text()').extract()[0]\n",
    "\n",
    "sale_price"
   ]
  },
  {
   "cell_type": "code",
   "execution_count": 19,
   "metadata": {},
   "outputs": [
    {
     "data": {
      "text/plain": [
       "('[20SS] Cargo Jogger Slacks Pants - Black',\n",
       " 'NOT4NERD',\n",
       " ' PT021BK',\n",
       " '남',\n",
       " '4,894',\n",
       " '1,339건',\n",
       " '89,000',\n",
       " ' 49,000')"
      ]
     },
     "execution_count": 19,
     "metadata": {},
     "output_type": "execute_result"
    }
   ],
   "source": [
    "product_name, brand_name, product_num, gender, good_num, reviw_count, orgin_price, sale_price"
   ]
  },
  {
   "cell_type": "markdown",
   "metadata": {},
   "source": [
    "# Items.py 변환"
   ]
  },
  {
   "cell_type": "code",
   "execution_count": 27,
   "metadata": {},
   "outputs": [
    {
     "name": "stdout",
     "output_type": "stream",
     "text": [
      "Overwriting musinsa/musinsa/items.py\n"
     ]
    }
   ],
   "source": [
    "%%writefile musinsa/musinsa/items.py\n",
    "import scrapy\n",
    "\n",
    "\n",
    "class MusinsaItem(scrapy.Item):\n",
    "    product_name = scrapy.Field()\n",
    "    brand_name = scrapy.Field()\n",
    "    prproduct_num = scrapy.Field()\n",
    "    gender = scrapy.Field()\n",
    "    good_num = scrapy.Field()\n",
    "    reviw_count = scrapy.Field()\n",
    "    orgin_price = scrapy.Field()\n",
    "    sale_price = scrapy.Field()"
   ]
  },
  {
   "cell_type": "markdown",
   "metadata": {},
   "source": [
    "# Spider 생성"
   ]
  },
  {
   "cell_type": "code",
   "execution_count": null,
   "metadata": {},
   "outputs": [],
   "source": [
    "%%writefile musinsa/musinsa/spiders/spider.py\n",
    "\n",
    "import scrapy\n",
    "import requests\n",
    "\n",
    "from musinsa.items import MusinsaItem\n",
    "from scrapy.http import TextResponse\n",
    "\n",
    "class MusinsaSpider(scrapy.Spider):\n",
    "    \n",
    "    name = \"Musinsa\"\n",
    "\n",
    "    def __init__(self) :\n",
    "        self.basic_url = \"https://store.musinsa.com/app/contents/bestranking/?d_cat_cd=&u_cat_cd=&range=1d&price=&ex_soldout=&sale_goods=&new_product_yn=&list_kind=&page={}&display_cnt=90&sex=&popup=&sale_rate=&price1=&price2=&chk_new_product_yn=&chk_sale=&chk_soldout=\".format(page)\n",
    "        self.start_urls = []\n",
    "        last_page_num = self.get_last_page\n",
    "        for page in range(last_page_num+1):\n",
    "            self.start_urls.append(self.base_url)\n",
    "        \n",
    "    def get_last_page(self):\n",
    "        req = requests.get(self.base_url)\n",
    "        response = TextResponse(req.url, body=req.text, encoding=\"utf-8\")\n",
    "        last_page = response.xpath('//*[@id=\"product_list\"]/div[2]/div[5]/div/div/a[14]').extract()\n",
    "        last_page_num = re.split('\\s', last_page[0])[3]\n",
    "        last_page_num = re.findall('\\d+', last_page_num)\n",
    "        last_page_num = list(map(int, last_page_num))[-1]\n",
    "        return last_page_num\n",
    "    \n",
    "    def start_requests(self):\n",
    "        for url in self.start_urls:\n",
    "            yield scrapy.Request(url=url, callback=self.parse)\n",
    "    \n",
    "    def parse_link(self, response):\n",
    "        links_1 = response.xpath('//*[@id=\"searchList\"]/li/div[3]/div[2]/p[2]/a/@href').extract()\n",
    "        links_1 = list(map(lambda data:response.urljoin(data), links_1))\n",
    "        links_2 = response.xpath('//*[@id=\"searchList\"]/li/div[2]/div[2]/p[2]/a/@href').extract()\n",
    "        links_2 = list(map(lambda data:response.urljoin(data), links_2))\n",
    "        links = links_1 + links_2\n",
    "        for link in links:\n",
    "            yield scrapy.Request(link, callback=self.parse_page_contents)\n",
    "                    \n",
    "    def parse_content(self, response):\n",
    "        item = MusinsaItem()\n",
    "        item[\"product_name\"] = response.xpath('//*[@id=\"page_product_detail\"]/div[4]/div[3]/span/span[1]/text()').extract()[0]\n",
    "        item[\"brand_name\"] = response.xpath('//*[@id=\"product_order_info\"]/div[1]/ul/li[1]/p[2]/strong/a/text()').extract()[0]\n",
    "        item[\"product_num\"] = response.xpath('//*[@id=\"product_order_info\"]/div[1]/ul/li[1]/p[2]/strong/text()').extract()[1].replace(\" \",\"\")\n",
    "        item[\"gender\"] = response.xpath('//*[@id=\"product_order_info\"]/div[1]/ul/li[2]/p[2]/span/span/text()').extract()\n",
    "        item[\"good_num\"] = response.xpath('//*[@id=\"product_order_info\"]/div[1]/ul/li[5]/p[2]/span/text()').extract()\n",
    "        item[\"reviw_count\"] = response.xpath('//*[@id=\"product_order_info\"]/div[1]/ul/li[6]/p[2]/a/text()').extract()\n",
    "        item[\"orgin_price\"] = response.xpath('//*[@id=\"goods_price\"]/del/text()').extract()[0]\n",
    "        item[\"sale_price\"] = response.xpath('//*[@id=\"sale_price\"]/text()').extract()[0].replace(\" \",\"\") \n",
    "        yield item"
   ]
  },
  {
   "cell_type": "code",
   "execution_count": null,
   "metadata": {},
   "outputs": [],
   "source": [
    "%%writefile run.sh\n",
    "cd musinsa\n",
    "scrapy crawl Musinsa -o ranking.csv"
   ]
  },
  {
   "cell_type": "code",
   "execution_count": null,
   "metadata": {},
   "outputs": [],
   "source": [
    "!ls -al run.sh"
   ]
  },
  {
   "cell_type": "code",
   "execution_count": null,
   "metadata": {},
   "outputs": [],
   "source": [
    "import os\n",
    "os.chmod(\"run.sh\", 0o764)"
   ]
  },
  {
   "cell_type": "code",
   "execution_count": null,
   "metadata": {},
   "outputs": [],
   "source": [
    "!ls -al run.sh"
   ]
  },
  {
   "cell_type": "code",
   "execution_count": null,
   "metadata": {},
   "outputs": [],
   "source": [
    "!./run.sh"
   ]
  }
 ],
 "metadata": {
  "kernelspec": {
   "display_name": "Python 3",
   "language": "python",
   "name": "python3"
  },
  "language_info": {
   "codemirror_mode": {
    "name": "ipython",
    "version": 3
   },
   "file_extension": ".py",
   "mimetype": "text/x-python",
   "name": "python",
   "nbconvert_exporter": "python",
   "pygments_lexer": "ipython3",
   "version": "3.7.4"
  }
 },
 "nbformat": 4,
 "nbformat_minor": 2
}
